{
  "nbformat": 4,
  "nbformat_minor": 0,
  "metadata": {
    "colab": {
      "name": "ResNet-V1.ipynb",
      "provenance": []
    },
    "kernelspec": {
      "name": "python3",
      "display_name": "Python 3"
    },
    "language_info": {
      "name": "python"
    },
    "accelerator": "GPU"
  },
  "cells": [
    {
      "cell_type": "markdown",
      "source": [
        "This model is trained with ResNet \n",
        "\n",
        "Image size 512x512\n",
        "\n",
        "Preprocessing - Random crop\n",
        "\n",
        "10 epochs\n",
        "\n",
        "accuracy on validation set 1.0000\n",
        "\n",
        "loss 0.0083\n",
        "\n",
        "Notes:\n",
        "\n",
        "Too exact, try on larger dataset\n",
        "\n"
      ],
      "metadata": {
        "id": "FHwGEdZv-BcM"
      }
    },
    {
      "cell_type": "code",
      "source": [
        "import numpy as np\n",
        "import matplotlib.pyplot as plt\n",
        "import keras\n",
        "from keras.layers import *\n",
        "from keras.models import *\n",
        "from keras.preprocessing import image\n",
        "\n",
        "from sklearn.model_selection import train_test_split\n",
        "\n",
        "import pandas as pd\n",
        "import os.path\n",
        "from os import path\n",
        "import shutil"
      ],
      "metadata": {
        "id": "X5BaD8PmQN-i"
      },
      "execution_count": 1,
      "outputs": []
    },
    {
      "cell_type": "code",
      "source": [
        "from google.colab import drive\n",
        "drive.mount('/content/drive/')"
      ],
      "metadata": {
        "colab": {
          "base_uri": "https://localhost:8080/"
        },
        "id": "FNYZJOqZtS7m",
        "outputId": "d75a51ed-19da-4e5e-ef1a-36e501aa22ef"
      },
      "execution_count": 2,
      "outputs": [
        {
          "output_type": "stream",
          "name": "stdout",
          "text": [
            "Drive already mounted at /content/drive/; to attempt to forcibly remount, call drive.mount(\"/content/drive/\", force_remount=True).\n"
          ]
        }
      ]
    },
    {
      "cell_type": "code",
      "source": [
        "FILE_PATH = \"/content/drive/MyDrive/ML Covid-19 detection/Datasets/covid-chestxray-dataset/metadata.csv\"\n",
        "IMAGES_PATH = \"/content/drive/MyDrive/ML Covid-19 detection/Datasets/covid-chestxray-dataset/images\"\n",
        "df = pd.read_csv(FILE_PATH)\n",
        "print(df.shape)"
      ],
      "metadata": {
        "id": "gYH3mCL6Py4O",
        "colab": {
          "base_uri": "https://localhost:8080/"
        },
        "outputId": "ef6f4cd0-c368-4b1b-e6fe-3019a2ecdcd5"
      },
      "execution_count": 3,
      "outputs": [
        {
          "output_type": "stream",
          "name": "stdout",
          "text": [
            "(950, 30)\n"
          ]
        }
      ]
    },
    {
      "cell_type": "code",
      "source": [
        "df.head()"
      ],
      "metadata": {
        "colab": {
          "base_uri": "https://localhost:8080/",
          "height": 664
        },
        "id": "LpmwlTEvtxOj",
        "outputId": "c14ff1d1-3b68-46f8-ea88-da527d3990ce"
      },
      "execution_count": 4,
      "outputs": [
        {
          "output_type": "execute_result",
          "data": {
            "text/plain": [
              "  patientid  offset sex   age                   finding RT_PCR_positive  \\\n",
              "0         2     0.0   M  65.0  Pneumonia/Viral/COVID-19               Y   \n",
              "1         2     3.0   M  65.0  Pneumonia/Viral/COVID-19               Y   \n",
              "2         2     5.0   M  65.0  Pneumonia/Viral/COVID-19               Y   \n",
              "3         2     6.0   M  65.0  Pneumonia/Viral/COVID-19               Y   \n",
              "4         4     0.0   F  52.0  Pneumonia/Viral/COVID-19               Y   \n",
              "\n",
              "  survival intubated intubation_present went_icu  ...              date  \\\n",
              "0        Y         N                  N        N  ...  January 22, 2020   \n",
              "1        Y         N                  N        N  ...  January 25, 2020   \n",
              "2        Y         N                  N        N  ...  January 27, 2020   \n",
              "3        Y         N                  N        N  ...  January 28, 2020   \n",
              "4      NaN         N                  N        N  ...  January 25, 2020   \n",
              "\n",
              "                                            location  folder  \\\n",
              "0        Cho Ray Hospital, Ho Chi Minh City, Vietnam  images   \n",
              "1        Cho Ray Hospital, Ho Chi Minh City, Vietnam  images   \n",
              "2        Cho Ray Hospital, Ho Chi Minh City, Vietnam  images   \n",
              "3        Cho Ray Hospital, Ho Chi Minh City, Vietnam  images   \n",
              "4  Changhua Christian Hospital, Changhua City, Ta...  images   \n",
              "\n",
              "                                            filename                   doi  \\\n",
              "0  auntminnie-a-2020_01_28_23_51_6665_2020_01_28_...  10.1056/nejmc2001272   \n",
              "1  auntminnie-b-2020_01_28_23_51_6665_2020_01_28_...  10.1056/nejmc2001272   \n",
              "2  auntminnie-c-2020_01_28_23_51_6665_2020_01_28_...  10.1056/nejmc2001272   \n",
              "3  auntminnie-d-2020_01_28_23_51_6665_2020_01_28_...  10.1056/nejmc2001272   \n",
              "4                              nejmc2001573_f1a.jpeg  10.1056/NEJMc2001573   \n",
              "\n",
              "                                                 url  license  \\\n",
              "0  https://www.nejm.org/doi/full/10.1056/NEJMc200...      NaN   \n",
              "1  https://www.nejm.org/doi/full/10.1056/NEJMc200...      NaN   \n",
              "2  https://www.nejm.org/doi/full/10.1056/NEJMc200...      NaN   \n",
              "3  https://www.nejm.org/doi/full/10.1056/NEJMc200...      NaN   \n",
              "4  https://www.nejm.org/doi/full/10.1056/NEJMc200...      NaN   \n",
              "\n",
              "                                      clinical_notes other_notes Unnamed: 29  \n",
              "0  On January 22, 2020, a 65-year-old man with a ...         NaN         NaN  \n",
              "1  On January 22, 2020, a 65-year-old man with a ...         NaN         NaN  \n",
              "2  On January 22, 2020, a 65-year-old man with a ...         NaN         NaN  \n",
              "3  On January 22, 2020, a 65-year-old man with a ...         NaN         NaN  \n",
              "4   diffuse infiltrates in the bilateral lower lungs         NaN         NaN  \n",
              "\n",
              "[5 rows x 30 columns]"
            ],
            "text/html": [
              "\n",
              "  <div id=\"df-f096a09a-5cdd-4151-9f98-8ec257d5d412\">\n",
              "    <div class=\"colab-df-container\">\n",
              "      <div>\n",
              "<style scoped>\n",
              "    .dataframe tbody tr th:only-of-type {\n",
              "        vertical-align: middle;\n",
              "    }\n",
              "\n",
              "    .dataframe tbody tr th {\n",
              "        vertical-align: top;\n",
              "    }\n",
              "\n",
              "    .dataframe thead th {\n",
              "        text-align: right;\n",
              "    }\n",
              "</style>\n",
              "<table border=\"1\" class=\"dataframe\">\n",
              "  <thead>\n",
              "    <tr style=\"text-align: right;\">\n",
              "      <th></th>\n",
              "      <th>patientid</th>\n",
              "      <th>offset</th>\n",
              "      <th>sex</th>\n",
              "      <th>age</th>\n",
              "      <th>finding</th>\n",
              "      <th>RT_PCR_positive</th>\n",
              "      <th>survival</th>\n",
              "      <th>intubated</th>\n",
              "      <th>intubation_present</th>\n",
              "      <th>went_icu</th>\n",
              "      <th>...</th>\n",
              "      <th>date</th>\n",
              "      <th>location</th>\n",
              "      <th>folder</th>\n",
              "      <th>filename</th>\n",
              "      <th>doi</th>\n",
              "      <th>url</th>\n",
              "      <th>license</th>\n",
              "      <th>clinical_notes</th>\n",
              "      <th>other_notes</th>\n",
              "      <th>Unnamed: 29</th>\n",
              "    </tr>\n",
              "  </thead>\n",
              "  <tbody>\n",
              "    <tr>\n",
              "      <th>0</th>\n",
              "      <td>2</td>\n",
              "      <td>0.0</td>\n",
              "      <td>M</td>\n",
              "      <td>65.0</td>\n",
              "      <td>Pneumonia/Viral/COVID-19</td>\n",
              "      <td>Y</td>\n",
              "      <td>Y</td>\n",
              "      <td>N</td>\n",
              "      <td>N</td>\n",
              "      <td>N</td>\n",
              "      <td>...</td>\n",
              "      <td>January 22, 2020</td>\n",
              "      <td>Cho Ray Hospital, Ho Chi Minh City, Vietnam</td>\n",
              "      <td>images</td>\n",
              "      <td>auntminnie-a-2020_01_28_23_51_6665_2020_01_28_...</td>\n",
              "      <td>10.1056/nejmc2001272</td>\n",
              "      <td>https://www.nejm.org/doi/full/10.1056/NEJMc200...</td>\n",
              "      <td>NaN</td>\n",
              "      <td>On January 22, 2020, a 65-year-old man with a ...</td>\n",
              "      <td>NaN</td>\n",
              "      <td>NaN</td>\n",
              "    </tr>\n",
              "    <tr>\n",
              "      <th>1</th>\n",
              "      <td>2</td>\n",
              "      <td>3.0</td>\n",
              "      <td>M</td>\n",
              "      <td>65.0</td>\n",
              "      <td>Pneumonia/Viral/COVID-19</td>\n",
              "      <td>Y</td>\n",
              "      <td>Y</td>\n",
              "      <td>N</td>\n",
              "      <td>N</td>\n",
              "      <td>N</td>\n",
              "      <td>...</td>\n",
              "      <td>January 25, 2020</td>\n",
              "      <td>Cho Ray Hospital, Ho Chi Minh City, Vietnam</td>\n",
              "      <td>images</td>\n",
              "      <td>auntminnie-b-2020_01_28_23_51_6665_2020_01_28_...</td>\n",
              "      <td>10.1056/nejmc2001272</td>\n",
              "      <td>https://www.nejm.org/doi/full/10.1056/NEJMc200...</td>\n",
              "      <td>NaN</td>\n",
              "      <td>On January 22, 2020, a 65-year-old man with a ...</td>\n",
              "      <td>NaN</td>\n",
              "      <td>NaN</td>\n",
              "    </tr>\n",
              "    <tr>\n",
              "      <th>2</th>\n",
              "      <td>2</td>\n",
              "      <td>5.0</td>\n",
              "      <td>M</td>\n",
              "      <td>65.0</td>\n",
              "      <td>Pneumonia/Viral/COVID-19</td>\n",
              "      <td>Y</td>\n",
              "      <td>Y</td>\n",
              "      <td>N</td>\n",
              "      <td>N</td>\n",
              "      <td>N</td>\n",
              "      <td>...</td>\n",
              "      <td>January 27, 2020</td>\n",
              "      <td>Cho Ray Hospital, Ho Chi Minh City, Vietnam</td>\n",
              "      <td>images</td>\n",
              "      <td>auntminnie-c-2020_01_28_23_51_6665_2020_01_28_...</td>\n",
              "      <td>10.1056/nejmc2001272</td>\n",
              "      <td>https://www.nejm.org/doi/full/10.1056/NEJMc200...</td>\n",
              "      <td>NaN</td>\n",
              "      <td>On January 22, 2020, a 65-year-old man with a ...</td>\n",
              "      <td>NaN</td>\n",
              "      <td>NaN</td>\n",
              "    </tr>\n",
              "    <tr>\n",
              "      <th>3</th>\n",
              "      <td>2</td>\n",
              "      <td>6.0</td>\n",
              "      <td>M</td>\n",
              "      <td>65.0</td>\n",
              "      <td>Pneumonia/Viral/COVID-19</td>\n",
              "      <td>Y</td>\n",
              "      <td>Y</td>\n",
              "      <td>N</td>\n",
              "      <td>N</td>\n",
              "      <td>N</td>\n",
              "      <td>...</td>\n",
              "      <td>January 28, 2020</td>\n",
              "      <td>Cho Ray Hospital, Ho Chi Minh City, Vietnam</td>\n",
              "      <td>images</td>\n",
              "      <td>auntminnie-d-2020_01_28_23_51_6665_2020_01_28_...</td>\n",
              "      <td>10.1056/nejmc2001272</td>\n",
              "      <td>https://www.nejm.org/doi/full/10.1056/NEJMc200...</td>\n",
              "      <td>NaN</td>\n",
              "      <td>On January 22, 2020, a 65-year-old man with a ...</td>\n",
              "      <td>NaN</td>\n",
              "      <td>NaN</td>\n",
              "    </tr>\n",
              "    <tr>\n",
              "      <th>4</th>\n",
              "      <td>4</td>\n",
              "      <td>0.0</td>\n",
              "      <td>F</td>\n",
              "      <td>52.0</td>\n",
              "      <td>Pneumonia/Viral/COVID-19</td>\n",
              "      <td>Y</td>\n",
              "      <td>NaN</td>\n",
              "      <td>N</td>\n",
              "      <td>N</td>\n",
              "      <td>N</td>\n",
              "      <td>...</td>\n",
              "      <td>January 25, 2020</td>\n",
              "      <td>Changhua Christian Hospital, Changhua City, Ta...</td>\n",
              "      <td>images</td>\n",
              "      <td>nejmc2001573_f1a.jpeg</td>\n",
              "      <td>10.1056/NEJMc2001573</td>\n",
              "      <td>https://www.nejm.org/doi/full/10.1056/NEJMc200...</td>\n",
              "      <td>NaN</td>\n",
              "      <td>diffuse infiltrates in the bilateral lower lungs</td>\n",
              "      <td>NaN</td>\n",
              "      <td>NaN</td>\n",
              "    </tr>\n",
              "  </tbody>\n",
              "</table>\n",
              "<p>5 rows × 30 columns</p>\n",
              "</div>\n",
              "      <button class=\"colab-df-convert\" onclick=\"convertToInteractive('df-f096a09a-5cdd-4151-9f98-8ec257d5d412')\"\n",
              "              title=\"Convert this dataframe to an interactive table.\"\n",
              "              style=\"display:none;\">\n",
              "        \n",
              "  <svg xmlns=\"http://www.w3.org/2000/svg\" height=\"24px\"viewBox=\"0 0 24 24\"\n",
              "       width=\"24px\">\n",
              "    <path d=\"M0 0h24v24H0V0z\" fill=\"none\"/>\n",
              "    <path d=\"M18.56 5.44l.94 2.06.94-2.06 2.06-.94-2.06-.94-.94-2.06-.94 2.06-2.06.94zm-11 1L8.5 8.5l.94-2.06 2.06-.94-2.06-.94L8.5 2.5l-.94 2.06-2.06.94zm10 10l.94 2.06.94-2.06 2.06-.94-2.06-.94-.94-2.06-.94 2.06-2.06.94z\"/><path d=\"M17.41 7.96l-1.37-1.37c-.4-.4-.92-.59-1.43-.59-.52 0-1.04.2-1.43.59L10.3 9.45l-7.72 7.72c-.78.78-.78 2.05 0 2.83L4 21.41c.39.39.9.59 1.41.59.51 0 1.02-.2 1.41-.59l7.78-7.78 2.81-2.81c.8-.78.8-2.07 0-2.86zM5.41 20L4 18.59l7.72-7.72 1.47 1.35L5.41 20z\"/>\n",
              "  </svg>\n",
              "      </button>\n",
              "      \n",
              "  <style>\n",
              "    .colab-df-container {\n",
              "      display:flex;\n",
              "      flex-wrap:wrap;\n",
              "      gap: 12px;\n",
              "    }\n",
              "\n",
              "    .colab-df-convert {\n",
              "      background-color: #E8F0FE;\n",
              "      border: none;\n",
              "      border-radius: 50%;\n",
              "      cursor: pointer;\n",
              "      display: none;\n",
              "      fill: #1967D2;\n",
              "      height: 32px;\n",
              "      padding: 0 0 0 0;\n",
              "      width: 32px;\n",
              "    }\n",
              "\n",
              "    .colab-df-convert:hover {\n",
              "      background-color: #E2EBFA;\n",
              "      box-shadow: 0px 1px 2px rgba(60, 64, 67, 0.3), 0px 1px 3px 1px rgba(60, 64, 67, 0.15);\n",
              "      fill: #174EA6;\n",
              "    }\n",
              "\n",
              "    [theme=dark] .colab-df-convert {\n",
              "      background-color: #3B4455;\n",
              "      fill: #D2E3FC;\n",
              "    }\n",
              "\n",
              "    [theme=dark] .colab-df-convert:hover {\n",
              "      background-color: #434B5C;\n",
              "      box-shadow: 0px 1px 3px 1px rgba(0, 0, 0, 0.15);\n",
              "      filter: drop-shadow(0px 1px 2px rgba(0, 0, 0, 0.3));\n",
              "      fill: #FFFFFF;\n",
              "    }\n",
              "  </style>\n",
              "\n",
              "      <script>\n",
              "        const buttonEl =\n",
              "          document.querySelector('#df-f096a09a-5cdd-4151-9f98-8ec257d5d412 button.colab-df-convert');\n",
              "        buttonEl.style.display =\n",
              "          google.colab.kernel.accessAllowed ? 'block' : 'none';\n",
              "\n",
              "        async function convertToInteractive(key) {\n",
              "          const element = document.querySelector('#df-f096a09a-5cdd-4151-9f98-8ec257d5d412');\n",
              "          const dataTable =\n",
              "            await google.colab.kernel.invokeFunction('convertToInteractive',\n",
              "                                                     [key], {});\n",
              "          if (!dataTable) return;\n",
              "\n",
              "          const docLinkHtml = 'Like what you see? Visit the ' +\n",
              "            '<a target=\"_blank\" href=https://colab.research.google.com/notebooks/data_table.ipynb>data table notebook</a>'\n",
              "            + ' to learn more about interactive tables.';\n",
              "          element.innerHTML = '';\n",
              "          dataTable['output_type'] = 'display_data';\n",
              "          await google.colab.output.renderOutput(dataTable, element);\n",
              "          const docLink = document.createElement('div');\n",
              "          docLink.innerHTML = docLinkHtml;\n",
              "          element.appendChild(docLink);\n",
              "        }\n",
              "      </script>\n",
              "    </div>\n",
              "  </div>\n",
              "  "
            ]
          },
          "metadata": {},
          "execution_count": 4
        }
      ]
    },
    {
      "cell_type": "code",
      "source": [
        "if not os.path.exists('./Dataset'):\n",
        "  os.mkdir('./Dataset')\n",
        "  print(\"Dataset folder created\")"
      ],
      "metadata": {
        "id": "q5nNcN8ufk76"
      },
      "execution_count": 5,
      "outputs": []
    },
    {
      "cell_type": "code",
      "source": [
        "COVID_DIR = \"/content/Dataset/Covid\"\n",
        "\n",
        "if not os.path.exists(COVID_DIR):\n",
        "    os.mkdir(COVID_DIR)\n",
        "    print(\"Covid folder created\")\n"
      ],
      "metadata": {
        "id": "5vCPalA6t4iD"
      },
      "execution_count": 6,
      "outputs": []
    },
    {
      "cell_type": "code",
      "source": [
        "cnt = 0\n",
        "for (i, row) in df.iterrows():\n",
        "    if row[\"finding\"]==\"Pneumonia/Viral/COVID-19\" and row[\"view\"]==\"PA\":\n",
        "        filename = row[\"filename\"]\n",
        "        image_path = os.path.join(IMAGES_PATH, filename)\n",
        "        image_copy_path = os.path.join(COVID_DIR, filename)\n",
        "        shutil.copy2(image_path, image_copy_path)\n",
        "        #print(\"Moving image: \", cnt)\n",
        "        cnt += 1\n",
        "        \n",
        "#print(cnt)"
      ],
      "metadata": {
        "id": "i3i82KGIt77V"
      },
      "execution_count": 7,
      "outputs": []
    },
    {
      "cell_type": "code",
      "source": [
        "# sampling of images from Kaggle\n",
        "\n",
        "import random\n",
        "NORMAL_PATH = \"/content/drive/MyDrive/ML Covid-19 detection/Datasets/chest_xray/train/NORMAL\"\n",
        "NORMAL_DIR = \"/content/Dataset/Normal\"\n",
        "\n",
        "if not os.path.exists(NORMAL_DIR):\n",
        "    os.mkdir(NORMAL_DIR)\n",
        "    print(\"Normal folder created\")"
      ],
      "metadata": {
        "id": "pU2uSD9quR8j"
      },
      "execution_count": 8,
      "outputs": []
    },
    {
      "cell_type": "code",
      "source": [
        "image_names = os.listdir(NORMAL_PATH)\n",
        "random.shuffle(image_names)"
      ],
      "metadata": {
        "id": "zwpCEP1EuU8O"
      },
      "execution_count": 9,
      "outputs": []
    },
    {
      "cell_type": "code",
      "source": [
        "for i in range(cnt):\n",
        "    image_name = image_names[i]\n",
        "    image_path = os.path.join(NORMAL_PATH, image_name)\n",
        "    target_path = os.path.join(NORMAL_DIR, image_name)\n",
        "    \n",
        "    shutil.copy2(image_path, target_path)\n",
        "\n",
        "  # Dataset created"
      ],
      "metadata": {
        "id": "hKDZelXkuwRp"
      },
      "execution_count": 10,
      "outputs": []
    },
    {
      "cell_type": "code",
      "source": [
        "import PIL\n",
        "import cv2\n",
        "import PIL.Image as Image\n",
        "import tensorflow as tf\n",
        "import tensorflow_hub as hub"
      ],
      "metadata": {
        "id": "cE4uSaIANmTf"
      },
      "execution_count": 11,
      "outputs": []
    },
    {
      "cell_type": "code",
      "source": [
        "IMAGE_SHAPE = (512, 512)\n",
        "# model = tf.keras.Sequential([\n",
        "#     hub.KerasLayer(\"https://tfhub.dev/tensorflow/efficientnet/b5/classification/1\")\n",
        "# ])\n",
        "# model.build([None, IMAGE_SHAPE[0], IMAGE_SHAPE[1], 3])\n",
        "# model.summary()"
      ],
      "metadata": {
        "id": "Cs1fflhfsT07"
      },
      "execution_count": 12,
      "outputs": []
    },
    {
      "cell_type": "code",
      "source": [
        "import pathlib\n",
        "\n",
        "data_dir = \"./Dataset\"\n",
        "data_dir = pathlib.Path(data_dir)"
      ],
      "metadata": {
        "id": "LMXhzVEws1GC"
      },
      "execution_count": 13,
      "outputs": []
    },
    {
      "cell_type": "code",
      "source": [
        "data_dir"
      ],
      "metadata": {
        "id": "vbMGuXFuvgS3",
        "colab": {
          "base_uri": "https://localhost:8080/"
        },
        "outputId": "37ef4f86-dc90-480c-ba1b-0aad13308f10"
      },
      "execution_count": 14,
      "outputs": [
        {
          "output_type": "execute_result",
          "data": {
            "text/plain": [
              "PosixPath('Dataset')"
            ]
          },
          "metadata": {},
          "execution_count": 14
        }
      ]
    },
    {
      "cell_type": "code",
      "source": [
        "list(data_dir.glob('./*/*.jpeg'))[:5]"
      ],
      "metadata": {
        "id": "OtDfo3KGviNa",
        "colab": {
          "base_uri": "https://localhost:8080/"
        },
        "outputId": "be55034a-e9c8-4c48-fe69-3cffb9a29214"
      },
      "execution_count": 15,
      "outputs": [
        {
          "output_type": "execute_result",
          "data": {
            "text/plain": [
              "[PosixPath('Dataset/Normal/NORMAL2-IM-0853-0001.jpeg'),\n",
              " PosixPath('Dataset/Normal/IM-0129-0001.jpeg'),\n",
              " PosixPath('Dataset/Normal/NORMAL2-IM-0926-0001.jpeg'),\n",
              " PosixPath('Dataset/Normal/NORMAL2-IM-1096-0001.jpeg'),\n",
              " PosixPath('Dataset/Normal/IM-0133-0001.jpeg')]"
            ]
          },
          "metadata": {},
          "execution_count": 15
        }
      ]
    },
    {
      "cell_type": "code",
      "source": [
        "image_count = len(list(data_dir.glob('./*/*.jpg'))) + len(list(data_dir.glob('./*/*.jpeg')))\n",
        "# print(image_count)"
      ],
      "metadata": {
        "id": "V7nzARV7yYLd"
      },
      "execution_count": 16,
      "outputs": []
    },
    {
      "cell_type": "code",
      "source": [
        "normal_images = list(data_dir.glob('./Normal/*'))\n",
        "# PIL.Image.open(str(normal_images[1]))"
      ],
      "metadata": {
        "id": "rrKRRUcXyiU6"
      },
      "execution_count": 17,
      "outputs": []
    },
    {
      "cell_type": "code",
      "source": [
        "xray_images_dict = {\n",
        "    'covid': list(data_dir.glob('./Covid/*')),\n",
        "    'normal': list(data_dir.glob('./Normal/*')),\n",
        "}\n",
        "\n",
        "xray_labels_dict = {\n",
        "    'covid': 0,\n",
        "    'normal': 1,\n",
        "}"
      ],
      "metadata": {
        "id": "HXRyH96Cy-TP"
      },
      "execution_count": 18,
      "outputs": []
    },
    {
      "cell_type": "code",
      "source": [
        ""
      ],
      "metadata": {
        "id": "bRmbVMG73P6Y"
      },
      "execution_count": 18,
      "outputs": []
    },
    {
      "cell_type": "code",
      "source": [
        "X, y = [], []\n",
        "\n",
        "for xray_type, images in xray_images_dict.items():\n",
        "    for image in images:\n",
        "        img = cv2.imread(str(image))\n",
        "        resized_img = cv2.resize(img,IMAGE_SHAPE)\n",
        "        X.append(resized_img)\n",
        "        y.append(xray_labels_dict[xray_type])"
      ],
      "metadata": {
        "id": "dMQTf5etzcbD"
      },
      "execution_count": 19,
      "outputs": []
    },
    {
      "cell_type": "code",
      "source": [
        "X = np.array(X)\n",
        "y = np.array(y)"
      ],
      "metadata": {
        "id": "urk5ZBsuzzRh"
      },
      "execution_count": 20,
      "outputs": []
    },
    {
      "cell_type": "markdown",
      "source": [
        ""
      ],
      "metadata": {
        "id": "WLy3vdLj7T_5"
      }
    },
    {
      "cell_type": "code",
      "source": [
        "horizontal_flip = keras.Sequential([\n",
        "    tf.keras.layers.RandomCrop(IMAGE_SHAPE[0], IMAGE_SHAPE[1], seed=None)\n",
        "])"
      ],
      "metadata": {
        "id": "MptoFsUa5nDZ"
      },
      "execution_count": 21,
      "outputs": []
    },
    {
      "cell_type": "code",
      "source": [
        "# plt.axis('off')\n",
        "# plt.imshow(horizontal_flip(X)[6].numpy().astype(\"uint8\"))"
      ],
      "metadata": {
        "id": "w5Nw99qs7Xfp"
      },
      "execution_count": 22,
      "outputs": []
    },
    {
      "cell_type": "code",
      "source": [
        "X_train, X_test, y_train, y_test = train_test_split(X, y, random_state=0)"
      ],
      "metadata": {
        "id": "ZrdQHjLmz2ed"
      },
      "execution_count": 23,
      "outputs": []
    },
    {
      "cell_type": "code",
      "source": [
        "# print(\"length of X_test:\", len(X_test))\n",
        "# y_test[:5]"
      ],
      "metadata": {
        "id": "CNRlEB7l4RvV"
      },
      "execution_count": 24,
      "outputs": []
    },
    {
      "cell_type": "code",
      "source": [
        "X_train_scaled = X_train / 255\n",
        "X_test_scaled = X_test / 255"
      ],
      "metadata": {
        "id": "hyJ2Qx01jtYr"
      },
      "execution_count": 25,
      "outputs": []
    },
    {
      "cell_type": "code",
      "source": [
        "X[0].shape"
      ],
      "metadata": {
        "id": "ZkyRq-7_0BXd",
        "colab": {
          "base_uri": "https://localhost:8080/"
        },
        "outputId": "23001a43-581d-4bb1-a00d-6d0f1924f3fb"
      },
      "execution_count": 26,
      "outputs": [
        {
          "output_type": "execute_result",
          "data": {
            "text/plain": [
              "(512, 512, 3)"
            ]
          },
          "metadata": {},
          "execution_count": 26
        }
      ]
    },
    {
      "cell_type": "code",
      "source": [
        "X_test_scaled[0]"
      ],
      "metadata": {
        "colab": {
          "base_uri": "https://localhost:8080/"
        },
        "id": "Glcyzro2F6sX",
        "outputId": "14f48402-fcc7-4266-848d-b7d17079514d"
      },
      "execution_count": 27,
      "outputs": [
        {
          "output_type": "execute_result",
          "data": {
            "text/plain": [
              "array([[[0.02352941, 0.02352941, 0.02352941],\n",
              "        [0.02352941, 0.02352941, 0.02352941],\n",
              "        [0.02745098, 0.02745098, 0.02745098],\n",
              "        ...,\n",
              "        [0.02745098, 0.02745098, 0.02745098],\n",
              "        [0.02745098, 0.02745098, 0.02745098],\n",
              "        [0.02745098, 0.02745098, 0.02745098]],\n",
              "\n",
              "       [[0.04313725, 0.04313725, 0.04313725],\n",
              "        [0.05098039, 0.05098039, 0.05098039],\n",
              "        [0.05098039, 0.05098039, 0.05098039],\n",
              "        ...,\n",
              "        [0.05490196, 0.05490196, 0.05490196],\n",
              "        [0.05490196, 0.05490196, 0.05490196],\n",
              "        [0.04313725, 0.04313725, 0.04313725]],\n",
              "\n",
              "       [[0.04313725, 0.04313725, 0.04313725],\n",
              "        [0.04705882, 0.04705882, 0.04705882],\n",
              "        [0.04705882, 0.04705882, 0.04705882],\n",
              "        ...,\n",
              "        [0.05098039, 0.05098039, 0.05098039],\n",
              "        [0.05098039, 0.05098039, 0.05098039],\n",
              "        [0.04313725, 0.04313725, 0.04313725]],\n",
              "\n",
              "       ...,\n",
              "\n",
              "       [[0.40392157, 0.40392157, 0.40392157],\n",
              "        [0.39215686, 0.39215686, 0.39215686],\n",
              "        [0.41176471, 0.41176471, 0.41176471],\n",
              "        ...,\n",
              "        [0.07058824, 0.07058824, 0.07058824],\n",
              "        [0.09411765, 0.09411765, 0.09411765],\n",
              "        [0.11764706, 0.11764706, 0.11764706]],\n",
              "\n",
              "       [[0.44313725, 0.44313725, 0.44313725],\n",
              "        [0.41176471, 0.41176471, 0.41176471],\n",
              "        [0.40392157, 0.40392157, 0.40392157],\n",
              "        ...,\n",
              "        [0.07058824, 0.07058824, 0.07058824],\n",
              "        [0.09411765, 0.09411765, 0.09411765],\n",
              "        [0.10980392, 0.10980392, 0.10980392]],\n",
              "\n",
              "       [[0.23137255, 0.23137255, 0.23137255],\n",
              "        [0.20784314, 0.20784314, 0.20784314],\n",
              "        [0.20392157, 0.20392157, 0.20392157],\n",
              "        ...,\n",
              "        [0.03921569, 0.03921569, 0.03921569],\n",
              "        [0.04705882, 0.04705882, 0.04705882],\n",
              "        [0.05490196, 0.05490196, 0.05490196]]])"
            ]
          },
          "metadata": {},
          "execution_count": 27
        }
      ]
    },
    {
      "cell_type": "code",
      "source": [
        "feature_extractor_model = \"https://tfhub.dev/google/imagenet/resnet_v2_50/feature_vector/5\"\n",
        "pretrained_model_without_top_layer = hub.KerasLayer(\n",
        "    feature_extractor_model, input_shape=IMAGE_SHAPE+(3,), trainable=False)"
      ],
      "metadata": {
        "id": "o-JBxmQBgDKS"
      },
      "execution_count": 28,
      "outputs": []
    },
    {
      "cell_type": "code",
      "source": [
        "num_of_classes = 2\n",
        "\n",
        "model = tf.keras.Sequential([\n",
        "  horizontal_flip,\n",
        "  pretrained_model_without_top_layer,\n",
        "  tf.keras.layers.Dense(num_of_classes)\n",
        "])\n",
        "model.build([None, IMAGE_SHAPE[0], IMAGE_SHAPE[1], 3])  # Batch input shape.\n",
        "model.summary()"
      ],
      "metadata": {
        "colab": {
          "base_uri": "https://localhost:8080/"
        },
        "id": "P0XJK5BCgFVz",
        "outputId": "6a560cbb-91b9-44ee-e209-107ce1804d2d"
      },
      "execution_count": 29,
      "outputs": [
        {
          "output_type": "stream",
          "name": "stdout",
          "text": [
            "Model: \"sequential_1\"\n",
            "_________________________________________________________________\n",
            " Layer (type)                Output Shape              Param #   \n",
            "=================================================================\n",
            " sequential (Sequential)     (None, 512, 512, 3)       0         \n",
            "                                                                 \n",
            " keras_layer (KerasLayer)    (None, 2048)              23564800  \n",
            "                                                                 \n",
            " dense (Dense)               (None, 2)                 4098      \n",
            "                                                                 \n",
            "=================================================================\n",
            "Total params: 23,568,898\n",
            "Trainable params: 4,098\n",
            "Non-trainable params: 23,564,800\n",
            "_________________________________________________________________\n"
          ]
        }
      ]
    },
    {
      "cell_type": "code",
      "source": [
        "model.compile(\n",
        "  optimizer=\"adam\",\n",
        "  loss=tf.keras.losses.SparseCategoricalCrossentropy(from_logits=True),\n",
        "  metrics=[\n",
        "           'accuracy'\n",
        "           ])\n",
        "\n",
        "history = model.fit(X_train_scaled, y_train, validation_data = (X_test_scaled, y_test), epochs=10)"
      ],
      "metadata": {
        "id": "vx8gBvYI0Dn1",
        "colab": {
          "base_uri": "https://localhost:8080/"
        },
        "outputId": "782ddfb6-4523-4c9b-e8ba-b6e62295f818"
      },
      "execution_count": 30,
      "outputs": [
        {
          "output_type": "stream",
          "name": "stdout",
          "text": [
            "Epoch 1/10\n",
            "13/13 [==============================] - 36s 1s/step - loss: 0.3096 - accuracy: 0.8966 - val_loss: 0.1226 - val_accuracy: 0.9784\n",
            "Epoch 2/10\n",
            "13/13 [==============================] - 14s 1s/step - loss: 0.1053 - accuracy: 0.9663 - val_loss: 0.0521 - val_accuracy: 0.9928\n",
            "Epoch 3/10\n",
            "13/13 [==============================] - 15s 1s/step - loss: 0.0624 - accuracy: 0.9784 - val_loss: 0.0360 - val_accuracy: 0.9928\n",
            "Epoch 4/10\n",
            "13/13 [==============================] - 14s 1s/step - loss: 0.0569 - accuracy: 0.9808 - val_loss: 0.0290 - val_accuracy: 0.9928\n",
            "Epoch 5/10\n",
            "13/13 [==============================] - 14s 1s/step - loss: 0.0502 - accuracy: 0.9832 - val_loss: 0.0262 - val_accuracy: 0.9928\n",
            "Epoch 6/10\n",
            "13/13 [==============================] - 14s 1s/step - loss: 0.0410 - accuracy: 0.9808 - val_loss: 0.0224 - val_accuracy: 0.9928\n",
            "Epoch 7/10\n",
            "13/13 [==============================] - 14s 1s/step - loss: 0.0343 - accuracy: 0.9928 - val_loss: 0.0225 - val_accuracy: 0.9928\n",
            "Epoch 8/10\n",
            "13/13 [==============================] - 14s 1s/step - loss: 0.0310 - accuracy: 0.9904 - val_loss: 0.0188 - val_accuracy: 0.9928\n",
            "Epoch 9/10\n",
            "13/13 [==============================] - 14s 1s/step - loss: 0.0272 - accuracy: 0.9928 - val_loss: 0.0192 - val_accuracy: 0.9928\n",
            "Epoch 10/10\n",
            "13/13 [==============================] - 14s 1s/step - loss: 0.0236 - accuracy: 0.9976 - val_loss: 0.0163 - val_accuracy: 0.9928\n"
          ]
        }
      ]
    },
    {
      "cell_type": "code",
      "source": [
        "# training validation accuracy plot\n",
        "plt.figure(figsize=(10,5))\n",
        "plt.plot(history.history[\"accuracy\"],label=\"accuracy\")\n",
        "plt.plot(history.history[\"val_accuracy\"],label=\"val_accuracy\")\n",
        "plt.legend(loc='upper left')\n",
        "\n",
        "# training validation loss plot\n",
        "# Plotting train_loss vs val_loss\n",
        "plt.figure(figsize=(10,5))\n",
        "plt.plot(history.history[\"loss\"],label=\"loss\")\n",
        "plt.plot(history.history[\"val_loss\"],label=\"val_loss\")\n",
        "plt.legend()"
      ],
      "metadata": {
        "colab": {
          "base_uri": "https://localhost:8080/",
          "height": 641
        },
        "id": "pM5iWv13sfCh",
        "outputId": "878e3452-7e37-406f-fbf0-5f045a4c0f74"
      },
      "execution_count": 32,
      "outputs": [
        {
          "output_type": "execute_result",
          "data": {
            "text/plain": [
              "<matplotlib.legend.Legend at 0x7fd5c0cc9a90>"
            ]
          },
          "metadata": {},
          "execution_count": 32
        },
        {
          "output_type": "display_data",
          "data": {
            "text/plain": [
              "<Figure size 720x360 with 1 Axes>"
            ],
            "image/png": "[encoded data removed]"
          },
          "metadata": {
            "needs_background": "light"
          }
        },
        {
          "output_type": "display_data",
          "data": {
            "text/plain": [
              "<Figure size 720x360 with 1 Axes>"
            ],
            "image/png": "[encoded data removed]"
          },
          "metadata": {
            "needs_background": "light"
          }
        }
      ]
    }
  ]
}